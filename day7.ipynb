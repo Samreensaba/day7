{
 "cells": [
  {
   "cell_type": "code",
   "execution_count": 2,
   "id": "d6854d44-32df-441d-8898-1416a3674781",
   "metadata": {},
   "outputs": [
    {
     "name": "stdout",
     "output_type": "stream",
     "text": [
      "FAKE FAN FINDER\n",
      "\n"
     ]
    },
    {
     "name": "stdin",
     "output_type": "stream",
     "text": [
      "Are you a superfan of 'The Big Bang Theory'? yes\n"
     ]
    },
    {
     "name": "stdout",
     "output_type": "stream",
     "text": [
      "Oh really?!\n"
     ]
    },
    {
     "name": "stdin",
     "output_type": "stream",
     "text": [
      "Then name me any character: Howard\n"
     ]
    },
    {
     "name": "stdout",
     "output_type": "stream",
     "text": [
      "You got that by pure chance.\n"
     ]
    },
    {
     "name": "stdin",
     "output_type": "stream",
     "text": [
      "How many seasons are there? 10\n"
     ]
    },
    {
     "name": "stdout",
     "output_type": "stream",
     "text": [
      "Cought you! FAKE FAN! FAKE FAN!\n"
     ]
    }
   ],
   "source": [
    "print(\"FAKE FAN FINDER\")\n",
    "print()\n",
    "fakeFan = input(\"Are you a superfan of 'The Big Bang Theory'?\")\n",
    "if fakeFan == \"yes\":\n",
    "  print(\"Oh really?!\")\n",
    "  character = input(\"Then name me any character:\")\n",
    "  if character == \"Sheldon\" or character == \"Leonard\" or character == \"Penny\" or character == \"Howard\" or character == \"Raj\":\n",
    "    print(\"You got that by pure chance.\")\n",
    "    seasons = input(\"How many seasons are there?\")\n",
    "    if seasons == \"12\":\n",
    "      print(\"You seems to be a real fan.\")\n",
    "    else:\n",
    "      print(\"Cought you! FAKE FAN! FAKE FAN!\")\n",
    "  else:\n",
    "    print(\"See! FAKE FAN!\")\n",
    "else:\n",
    "  print(\"Oh, okay.\")"
   ]
  },
  {
   "cell_type": "code",
   "execution_count": null,
   "id": "5f2d2902-2b97-47f4-bb86-222e592e0d2c",
   "metadata": {},
   "outputs": [],
   "source": []
  }
 ],
 "metadata": {
  "kernelspec": {
   "display_name": "Python 3 (ipykernel)",
   "language": "python",
   "name": "python3"
  },
  "language_info": {
   "codemirror_mode": {
    "name": "ipython",
    "version": 3
   },
   "file_extension": ".py",
   "mimetype": "text/x-python",
   "name": "python",
   "nbconvert_exporter": "python",
   "pygments_lexer": "ipython3",
   "version": "3.12.4"
  }
 },
 "nbformat": 4,
 "nbformat_minor": 5
}
